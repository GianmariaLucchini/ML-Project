{
 "cells": [
  {
   "cell_type": "markdown",
   "metadata": {},
   "source": [
    "# CITYSCAPE VS. LANDSCAPE"
   ]
  },
  {
   "cell_type": "code",
   "execution_count": null,
   "metadata": {
    "collapsed": true
   },
   "outputs": [],
   "source": [
    "import numpy as np\n",
    "import os\n",
    "import glob\n",
    "import random\n",
    "import load_images\n",
    "import hog_feature\n",
    "import edge_feature\n",
    "import corner_feature\n",
    "import my_SVM"
   ]
  },
  {
   "cell_type": "code",
   "execution_count": null,
   "metadata": {
    "collapsed": true
   },
   "outputs": [],
   "source": [
    "def split_data(dataset):\n",
    "    \n",
    "    random.shuffle(dataset)\n",
    "    datasetX = []\n",
    "    datasetY = []\n",
    "    \n",
    "    for n in dataset:\n",
    "        datasetX.append(n[0])\n",
    "        datasetY.append([n[1]])\n",
    "\n",
    "    # 70% Training, 30% Test    \n",
    "    \n",
    "    datasetX_testSplit = int(.7 * len(datasetX))\n",
    "    datasetX_training = datasetX[:datasetX_testSplit]\n",
    "    datasetX_test = datasetX[datasetX_testSplit:]\n",
    "\n",
    "    datasetY_testSplit = int(.7 * len(datasetY))\n",
    "    datasetY_training = datasetY[:datasetY_testSplit]\n",
    "    datasetY_test = datasetY[datasetY_testSplit:]\n",
    "    \n",
    "    return datasetX_training, datasetY_training, datasetX_test, datasetY_test"
   ]
  },
  {
   "cell_type": "code",
   "execution_count": null,
   "metadata": {
    "collapsed": true
   },
   "outputs": [],
   "source": [
    "def my_classifier(kernel_type, dataset):\n",
    "    \n",
    "    average = 0\n",
    "    \n",
    "    # CrossValidation\n",
    "\n",
    "    for k in range(1,100):\n",
    "        \n",
    "        trainingX, trainingY, testX, testY = split_data(dataset)\n",
    "    \n",
    "        if kernel_type == \"gaussian\":\n",
    "            clf = my_SVM.my_SVM_train(\"gaussian\", my_SVM.my_Kernel.gaussian(50))\n",
    "        else:\n",
    "            clf = my_SVM.my_SVM_train(\"linear\", my_SVM.my_Kernel.linear())\n",
    "\n",
    "        _clf = clf.train(np.asarray(trainingX), np.asarray(trainingY))\n",
    "        average += _clf.score(_clf.predict(np.asarray(testX)), np.asarray(testY))\n",
    "        \n",
    "    return average/100"
   ]
  },
  {
   "cell_type": "code",
   "execution_count": null,
   "metadata": {},
   "outputs": [],
   "source": [
    "# Loading Images\n",
    "\n",
    "dataset = load_images.load()\n",
    "\n",
    "# Extracting Features\n",
    "\n",
    "corner_dataset = corner_feature.corner_feature(dataset)\n",
    "edge_dataset = edge_feature.edge_feature(load_images.load())\n",
    "hog_dataset = hog_feature.hog_feature(load_images.load())\n",
    "\n",
    "\n",
    "\n",
    "\n",
    "# Corner\n",
    "\n",
    "# Linear Kernel -> Accuracy  64.26%\n",
    "print(my_classifier(\"linear\", corner_dataset))\n",
    "\n",
    "# Gaussian Kernel -> Accuracy  52.41%\n",
    "print(my_classifier(\"gaussian\", corner_dataset))\n",
    "\n",
    "\n",
    "\n",
    "# Edge\n",
    "\n",
    "# Linear Kernel -> Accuracy  56.25%\n",
    "print(my_classifier(\"linear\", edge_dataset))\n",
    "\n",
    "# Gaussian Kernel -> Accuracy  52.06%\n",
    "print(my_classifier(\"gaussian\", edge_dataset))\n",
    "\n",
    "\n",
    "\n",
    "# HOG\n",
    "\n",
    "# Linear Kernel -> Accuracy  80.19%\n",
    "print(my_classifier(\"linear\", hog_dataset))\n",
    "\n",
    "# Gaussian Kernel -> Accuracy  53.33%\n",
    "print(my_classifier(\"gaussian\", hog_dataset))"
   ]
  },
  {
   "cell_type": "code",
   "execution_count": null,
   "metadata": {
    "collapsed": true
   },
   "outputs": [],
   "source": []
  }
 ],
 "metadata": {
  "kernelspec": {
   "display_name": "Python 3",
   "language": "python",
   "name": "python3"
  },
  "language_info": {
   "codemirror_mode": {
    "name": "ipython",
    "version": 3
   },
   "file_extension": ".py",
   "mimetype": "text/x-python",
   "name": "python",
   "nbconvert_exporter": "python",
   "pygments_lexer": "ipython3",
   "version": "3.6.3"
  }
 },
 "nbformat": 4,
 "nbformat_minor": 2
}
