{
 "cells": [
  {
   "cell_type": "code",
   "execution_count": null,
   "metadata": {
    "collapsed": true
   },
   "outputs": [],
   "source": [
    "import os, glob\n",
    "from scipy import ndimage"
   ]
  },
  {
   "cell_type": "code",
   "execution_count": null,
   "metadata": {
    "collapsed": true
   },
   "outputs": [],
   "source": [
    "def load():\n",
    "\n",
    "    dataset = []\n",
    "    load_class(dataset, \"Landscape\")\n",
    "    load_class(dataset, \"Cityscape\")\n",
    "\n",
    "    return dataset"
   ]
  },
  {
   "cell_type": "code",
   "execution_count": null,
   "metadata": {
    "collapsed": true
   },
   "outputs": [],
   "source": [
    "def load_class(dataset, class_image):\n",
    "    script_dir = os.path.dirname(os.path.abspath('__file__'))\n",
    "    rel_path = class_image\n",
    "    abs_file_path = os.path.join(script_dir, rel_path)\n",
    "    abs_file_path = abs_file_path+\"/*.jpg\"\n",
    "    files=glob.glob(abs_file_path)\n",
    "\n",
    "    for file in files:\n",
    "        image = ndimage.imread(file)\n",
    "\n",
    "        if class_image == \"Landscape\":\n",
    "            dataset.append([image, 1])\n",
    "        else:\n",
    "            dataset.append([image, -1])"
   ]
  },
  {
   "cell_type": "code",
   "execution_count": null,
   "metadata": {
    "collapsed": true
   },
   "outputs": [],
   "source": []
  }
 ],
 "metadata": {
  "kernelspec": {
   "display_name": "Python 3",
   "language": "python",
   "name": "python3"
  },
  "language_info": {
   "codemirror_mode": {
    "name": "ipython",
    "version": 3
   },
   "file_extension": ".py",
   "mimetype": "text/x-python",
   "name": "python",
   "nbconvert_exporter": "python",
   "pygments_lexer": "ipython3",
   "version": "3.6.3"
  }
 },
 "nbformat": 4,
 "nbformat_minor": 2
}
