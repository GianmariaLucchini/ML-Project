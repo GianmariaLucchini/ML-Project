{
 "cells": [
  {
   "cell_type": "code",
   "execution_count": null,
   "metadata": {
    "collapsed": true
   },
   "outputs": [],
   "source": [
    "from skimage import color, filters\n",
    "import numpy as np"
   ]
  },
  {
   "cell_type": "code",
   "execution_count": null,
   "metadata": {
    "collapsed": true
   },
   "outputs": [],
   "source": [
    "def edge_detector(img, sigma, threshold):\n",
    "    # Convert to grayscale and convert the image to float\n",
    "    _img = color.rgb2gray(img)\n",
    "    \n",
    "    # Apply Gaussian filter\n",
    "    img_smooth = filters.gaussian(_img, sigma)\n",
    "    \n",
    "    # Compute first derivatives with the following kernel\n",
    "    k = [-0.5,0,0.5]\n",
    "\n",
    "    # Compute first derivative along x\n",
    "    Ix = np.copy(img_smooth)\n",
    "    for i in range(img_smooth.shape[0]):\n",
    "        Ix[i,:] = np.convolve(img_smooth[i,:], k, mode='same')\n",
    "    \n",
    "    # Compute first derivative along y\n",
    "    Iy = np.copy(img_smooth)\n",
    "    for j in range(img.shape[1]):\n",
    "        Iy[:,j] = np.convolve(img_smooth[:,j], np.transpose(k), mode='same')\n",
    "    \n",
    "    # Compute the mangnitude of the gradient\n",
    "    G = np.sqrt(np.square(Ix) + np.square(Iy))\n",
    "    \n",
    "    # Generate edge map\n",
    "    edge = G > threshold\n",
    "    \n",
    "    return edge"
   ]
  },
  {
   "cell_type": "code",
   "execution_count": null,
   "metadata": {
    "collapsed": true
   },
   "outputs": [],
   "source": [
    "def edge_feature(dataset):\n",
    "\n",
    "    for image in dataset:\n",
    "\n",
    "        edge = edge_detector(image[0], 1, 0.035)\n",
    "\n",
    "        image[0] = np.asarray(edge).reshape(-1)\n",
    "\n",
    "    return dataset"
   ]
  },
  {
   "cell_type": "code",
   "execution_count": null,
   "metadata": {
    "collapsed": true
   },
   "outputs": [],
   "source": []
  }
 ],
 "metadata": {
  "kernelspec": {
   "display_name": "Python 3",
   "language": "python",
   "name": "python3"
  },
  "language_info": {
   "codemirror_mode": {
    "name": "ipython",
    "version": 3
   },
   "file_extension": ".py",
   "mimetype": "text/x-python",
   "name": "python",
   "nbconvert_exporter": "python",
   "pygments_lexer": "ipython3",
   "version": "3.6.3"
  }
 },
 "nbformat": 4,
 "nbformat_minor": 2
}
