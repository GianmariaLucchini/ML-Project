{
 "cells": [
  {
   "cell_type": "code",
   "execution_count": null,
   "metadata": {
    "collapsed": true
   },
   "outputs": [],
   "source": [
    "import numpy as np\n",
    "import cvxopt"
   ]
  },
  {
   "cell_type": "code",
   "execution_count": null,
   "metadata": {
    "collapsed": true
   },
   "outputs": [],
   "source": [
    "class my_SVM_train(object):\n",
    "\n",
    "    def __init__(self, kernel_type, kernel):\n",
    "        self.kernel_type = kernel_type\n",
    "        self.kernel = kernel\n",
    "\n",
    "    def train(self, X, y):\n",
    "\n",
    "        lagrange_multipliers = self.compute_lagrange(X, y)\n",
    "\n",
    "        return self.predictor(X, y, lagrange_multipliers)\n",
    "\n",
    "    def predictor(self, X, y, lagrange_multipliers):\n",
    "        index = lagrange_multipliers > 1e-5\n",
    "\n",
    "        weights = lagrange_multipliers[index]\n",
    "        support_vectors = X[index]\n",
    "        support_vector_y = y[index]\n",
    "\n",
    "        average = []\n",
    "        for (y_k, x_k) in zip(support_vector_y, support_vectors):\n",
    "            average.append(y_k - my_SVM_pred(self.kernel_type, self.kernel, 0.0, weights, support_vectors, support_vector_y).predict(x_k))\n",
    "\n",
    "        bias = np.mean(average)\n",
    "\n",
    "        return my_SVM_pred(self.kernel_type, self.kernel, bias, weights, support_vectors, support_vector_y)\n",
    "\n",
    "\n",
    "    def compute_lagrange(self, X, y):\n",
    "        samples, features = X.shape\n",
    "\n",
    "        # Compute Gram Matrix\n",
    "\n",
    "        K = np.zeros((samples, samples))\n",
    "\n",
    "        for i, x_i in enumerate(X):\n",
    "            for j, x_j in enumerate(X):\n",
    "                K[i, j] = self.kernel(x_i, x_j)\n",
    "\n",
    "        # Solves the Given QP ( through cvxopt )\n",
    "\n",
    "        P = cvxopt.matrix(np.outer(y, y) * K)\n",
    "        q = cvxopt.matrix(-1 * np.ones(samples))\n",
    "\n",
    "        _G = cvxopt.matrix(np.diag(np.ones(samples) * -1))\n",
    "        _h = cvxopt.matrix(np.zeros(samples))\n",
    "\n",
    "        G_ = cvxopt.matrix(np.diag(np.ones(samples)))\n",
    "        h_ = cvxopt.matrix(np.ones(samples))\n",
    "\n",
    "        G = cvxopt.matrix(np.vstack((_G, G_)))\n",
    "        h = cvxopt.matrix(np.vstack((_h, h_)))\n",
    "\n",
    "        my_cvxopt = cvxopt.solvers\n",
    "        my_cvxopt.options['show_progress'] = False\n",
    "        solution = my_cvxopt.qp(P, q, G, h)\n",
    "\n",
    "        # Lagrange multipliers\n",
    "\n",
    "        return np.ravel(solution['x'])"
   ]
  },
  {
   "cell_type": "code",
   "execution_count": null,
   "metadata": {
    "collapsed": true
   },
   "outputs": [],
   "source": [
    "class my_SVM_pred(object):\n",
    "\n",
    "    def __init__(self, kernel_type, kernel, bias, weights, support_vectors, support_vector_y):\n",
    "        self.kernel_type = kernel_type\n",
    "        self.kernel = kernel\n",
    "        self.bias = bias\n",
    "        self.weights = weights\n",
    "        self.support_vectors = support_vectors\n",
    "        self.support_vector_y = support_vector_y\n",
    "\n",
    "    def predict(self, x):\n",
    "        result = self.bias\n",
    "\n",
    "        if self.kernel_type in \"linear\":\n",
    "\n",
    "            for z_i, x_i, y_i in zip(self.weights, self.support_vectors, self.support_vector_y):\n",
    "                result += z_i * y_i * self.kernel(x_i, x)\n",
    "\n",
    "            return np.sign(result)\n",
    "\n",
    "        else:\n",
    "\n",
    "            results = []\n",
    "            for z_i, x_i, y_i in zip(self.weights, self.support_vectors, self.support_vector_y):\n",
    "                result += z_i * y_i * self.kernel(x_i, x)\n",
    "                if np.sign(result) > 0:\n",
    "                    results.append(1)\n",
    "                else:\n",
    "                    results.append(-1)\n",
    "            return results\n",
    "\n",
    "    def score(self, y1, y2):\n",
    "        size, aux = y2.shape\n",
    "        ok = 0\n",
    "        for k in range(0,size):\n",
    "            if y1[k] == y2[k]:\n",
    "                ok += 1\n",
    "        return ok/size"
   ]
  },
  {
   "cell_type": "code",
   "execution_count": null,
   "metadata": {
    "collapsed": true
   },
   "outputs": [],
   "source": [
    "class my_Kernel(object):\n",
    "\n",
    "    def linear():\n",
    "        def f(x, y):\n",
    "            return np.inner(x, y)\n",
    "        return f\n",
    "\n",
    "    def gaussian(sigma):\n",
    "        def f(x, y):\n",
    "            exponent = -np.sqrt(np.linalg.norm(x-y) ** 2 / (2 * sigma ** 2))\n",
    "            return np.exp(exponent)\n",
    "        return f"
   ]
  }
 ],
 "metadata": {
  "kernelspec": {
   "display_name": "Python 3",
   "language": "python",
   "name": "python3"
  },
  "language_info": {
   "codemirror_mode": {
    "name": "ipython",
    "version": 3
   },
   "file_extension": ".py",
   "mimetype": "text/x-python",
   "name": "python",
   "nbconvert_exporter": "python",
   "pygments_lexer": "ipython3",
   "version": "3.6.3"
  }
 },
 "nbformat": 4,
 "nbformat_minor": 2
}
